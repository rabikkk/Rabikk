{
  "nbformat": 4,
  "nbformat_minor": 0,
  "metadata": {
    "colab": {
      "name": "Untitled2.ipynb",
      "provenance": [],
      "collapsed_sections": [],
      "authorship_tag": "ABX9TyPHmnudwR1O4vPijiVjWevb",
      "include_colab_link": true
    },
    "kernelspec": {
      "name": "python3",
      "display_name": "Python 3"
    }
  },
  "cells": [
    {
      "cell_type": "markdown",
      "metadata": {
        "id": "view-in-github",
        "colab_type": "text"
      },
      "source": [
        "<a href=\"https://colab.research.google.com/github/rabikkk/Rabikk/blob/master/Matrix_numpy.ipynb\" target=\"_parent\"><img src=\"https://colab.research.google.com/assets/colab-badge.svg\" alt=\"Open In Colab\"/></a>"
      ]
    },
    {
      "cell_type": "code",
      "metadata": {
        "id": "_YNWnqv--sJT",
        "colab_type": "code",
        "colab": {
          "base_uri": "https://localhost:8080/",
          "height": 102
        },
        "outputId": "0354292a-f40b-42f7-b0e9-778781d356bd"
      },
      "source": [
        "import numpy as np\n",
        "my_matrix = np.matrix(np.random.rand(5, 3), dtype=np.float32) \n",
        "for i in my_matrix:\n",
        "  print(i)"
      ],
      "execution_count": null,
      "outputs": [
        {
          "output_type": "stream",
          "text": [
            "[[0.7184899  0.66424936 0.9373761 ]]\n",
            "[[0.70627487 0.24526024 0.31322667]]\n",
            "[[0.44956583 0.87317854 0.45888695]]\n",
            "[[0.6145976 0.8331281 0.9929762]]\n",
            "[[0.32790208 0.78581446 0.6742399 ]]\n"
          ],
          "name": "stdout"
        }
      ]
    },
    {
      "cell_type": "code",
      "metadata": {
        "id": "TucII7PPauLq",
        "colab_type": "code",
        "colab": {
          "base_uri": "https://localhost:8080/",
          "height": 527
        },
        "outputId": "a7910c88-eaa7-4347-9dfa-0ffaf233b99e"
      },
      "source": [
        "import numpy \n",
        "import random \n",
        "my_matrix= numpy.empty([5, 3], dtype=float)\n",
        "for i in range(5):\n",
        "  for k in range(3):\n",
        "         my_matrix= numpy.append (my_matrix, [random.uniform(-5, 5)])\n",
        "for i in my_matrix:\n",
        "  print(i)"
      ],
      "execution_count": null,
      "outputs": [
        {
          "output_type": "stream",
          "text": [
            "-4.939008091088384\n",
            "1.866480040514233\n",
            "1.410849183944233\n",
            "1.6397676838519493\n",
            "0.9801379652684012\n",
            "1.0934314357363153\n",
            "4.765878910192914\n",
            "3.4061032868366823\n",
            "4.263575567519718\n",
            "-2.4475513654641423\n",
            "0.45913848354862985\n",
            "-4.001756665293089\n",
            "-4.771313236120919\n",
            "-1.3697634451018126\n",
            "4.294893147574912\n",
            "0.8819023245581823\n",
            "4.555446152491015\n",
            "-0.0003339859629285513\n",
            "2.1248154864852875\n",
            "2.9669462015891437\n",
            "-1.5940073356429796\n",
            "0.883883257547275\n",
            "-4.366771701941396\n",
            "-0.7092399900940194\n",
            "3.306205225941163\n",
            "-4.240630066864824\n",
            "-0.9046994628898926\n",
            "3.753649453850901\n",
            "-3.0588671650208763\n",
            "1.6693263577872939\n"
          ],
          "name": "stdout"
        }
      ]
    },
    {
      "cell_type": "code",
      "metadata": {
        "id": "zpdI1rPWbJxM",
        "colab_type": "code",
        "colab": {
          "base_uri": "https://localhost:8080/",
          "height": 102
        },
        "outputId": "8dac3ef1-c3ed-49cc-ef42-58c54c511288"
      },
      "source": [
        "import numpy \n",
        "my_matrix=numpy.random.uniform(-5, 5, size=(5, 3))\n",
        "for i in my_matrix:\n",
        "  print(i)"
      ],
      "execution_count": null,
      "outputs": [
        {
          "output_type": "stream",
          "text": [
            "[ 1.93083482  2.22400364 -4.24404429]\n",
            "[-2.80255397 -2.74836106 -0.49956321]\n",
            "[-4.32221087  2.47396718  4.97175121]\n",
            "[0.41595437 4.20905998 0.50829018]\n",
            "[ 1.60459868  2.91341544 -4.338081  ]\n"
          ],
          "name": "stdout"
        }
      ]
    },
    {
      "cell_type": "code",
      "metadata": {
        "id": "4xDClhfViHf1",
        "colab_type": "code",
        "colab": {
          "base_uri": "https://localhost:8080/",
          "height": 102
        },
        "outputId": "9cd1c361-8d75-41ab-84ef-88207abc881c"
      },
      "source": [
        "import numpy \n",
        "import random \n",
        "arr= numpy.empty([5, 3], dtype=float)\n",
        "for i in range(5):\n",
        "  for k in range(3):\n",
        "     arr[i][k]=random.uniform(-5,5)\n",
        "for i in arr:\n",
        "  print(i)\n",
        "  "
      ],
      "execution_count": null,
      "outputs": [
        {
          "output_type": "stream",
          "text": [
            "[ 4.9811414  -3.91301434  1.80441199]\n",
            "[0.80318626 1.16795241 0.60459693]\n",
            "[ 0.65814996  4.51694023 -1.1533397 ]\n",
            "[-3.52985562 -2.46150429  0.19577699]\n",
            "[-3.54037191  1.89011436 -2.63145179]\n"
          ],
          "name": "stdout"
        }
      ]
    },
    {
      "cell_type": "code",
      "metadata": {
        "id": "G40GG0dzm_VL",
        "colab_type": "code",
        "colab": {
          "base_uri": "https://localhost:8080/",
          "height": 102
        },
        "outputId": "4efbcb59-cce9-41bc-cf5c-0fc5206447cb"
      },
      "source": [
        "import numpy \n",
        "import random \n",
        "arr= numpy.empty([5, 3], dtype=float)\n",
        "for i in range(5):\n",
        "  for k in range(3):\n",
        "     arr[i][k]=random.uniform(-5,5)\n",
        "for i in arr:\n",
        "  print(i)"
      ],
      "execution_count": null,
      "outputs": [
        {
          "output_type": "stream",
          "text": [
            "[ 2.11465947 -1.36633565  4.12143024]\n",
            "[ 0.92795633  3.97078644 -1.53516378]\n",
            "[ 3.02783601  3.18342577 -2.42315378]\n",
            "[-1.99058495  4.19841595 -3.60840531]\n",
            "[-2.82450032  1.3120411  -2.92446896]\n"
          ],
          "name": "stdout"
        }
      ]
    },
    {
      "cell_type": "code",
      "metadata": {
        "id": "X9jQO6QkssRK",
        "colab_type": "code",
        "colab": {}
      },
      "source": [
        ""
      ],
      "execution_count": null,
      "outputs": []
    }
  ]
}